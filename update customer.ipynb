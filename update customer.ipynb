{
 "cells": [
  {
   "cell_type": "code",
   "execution_count": null,
   "id": "b38eb6c3-9d0d-471b-8787-bfa10fa6c3cc",
   "metadata": {},
   "outputs": [],
   "source": [
    "import mysql.connector\n",
    "from mysql.connector import Error"
   ]
  },
  {
   "cell_type": "code",
   "execution_count": null,
   "id": "1b1c87a9-39f2-497d-a53e-0070cf5e4100",
   "metadata": {},
   "outputs": [],
   "source": [
    "def connect_to_mysql():\n",
    "    try:\n",
    "        connection = mysql.connector.connect(\n",
    "            host='localhost',       \n",
    "            user='uma',             \n",
    "            password='uma1608@', \n",
    "            database='customers'   \n",
    "        )\n",
    "        print(\"connected.\")\n",
    "        return connection\n",
    "    except Error as e:\n",
    "        print(f\"Error:{e}\")\n",
    "        return None\n",
    "\n",
    "connect_to_mysql()"
   ]
  },
  {
   "cell_type": "code",
   "execution_count": null,
   "id": "ad6f113b-6721-418e-af15-24a615a958e7",
   "metadata": {},
   "outputs": [],
   "source": [
    "def update_customer_phone(connection, CustomerID, phone2):\n",
    "    cursor = connection.cursor()\n",
    "    query = \"UPDATE customers SET phone2 = %s WHERE CustomerID = %s\"\n",
    "    values = ( phone2, CustomerID)\n",
    "    cursor.execute(query, values)\n",
    "    connection.commit()\n",
    "    \n",
    "    if cursor.rowcount == 0:\n",
    "        print(\"No customer found with that ID.\")\n",
    "    else:\n",
    "        print(\"Customer phone number updated.\")"
   ]
  },
  {
   "cell_type": "code",
   "execution_count": null,
   "id": "e8fc397e-fa0e-4220-9b12-505dde035a0b",
   "metadata": {},
   "outputs": [],
   "source": [
    "update_customer_phone(connection, \"1Ef7b82A4CAAD10\", 8732555629)"
   ]
  },
  {
   "cell_type": "code",
   "execution_count": null,
   "id": "1bd8a787-0f01-4ea2-879d-8e234b86c472",
   "metadata": {},
   "outputs": [],
   "source": [
    "def view_customer(connection, CustomerID):\n",
    "    cursor = connection.cursor()\n",
    "    query = \"SELECT * FROM customers WHERE CustomerID = %s\"\n",
    "    cursor.execute(query, (CustomerID,))\n",
    "    result = cursor.fetchone()\n",
    "    \n",
    "    if result:\n",
    "        print(\"Customer Record:\", result)\n",
    "    else:\n",
    "        print(\"No customer found.\")"
   ]
  },
  {
   "cell_type": "code",
   "execution_count": null,
   "id": "1a0c1d75-f2df-495a-8f1a-a645a693ab41",
   "metadata": {},
   "outputs": [],
   "source": [
    "view_customer(connection, '1Ef7b82A4CAAD10')"
   ]
  },
  {
   "cell_type": "code",
   "execution_count": null,
   "id": "6eb879ab-54fe-4258-8a07-80bef733ae51",
   "metadata": {},
   "outputs": [],
   "source": [
    "def update_customer_phone(connection, CustomerID, phone2):\n",
    "    cursor = connection.cursor()\n",
    "    query = \"UPDATE customers SET phone2 = %s WHERE CustomerID = %s\"\n",
    "    values = ( phone2, CustomerID)\n",
    "    cursor.execute(query, values)\n",
    "    connection.commit()\n",
    "    \n",
    "    if cursor.rowcount == 0:\n",
    "        print(\"No customer found with that ID.\")\n",
    "    else:\n",
    "        print(\"Customer phone number updated.\")"
   ]
  },
  {
   "cell_type": "code",
   "execution_count": null,
   "id": "20d1955d-6003-464c-9a5d-43f32fb2623b",
   "metadata": {},
   "outputs": [],
   "source": [
    "update_customer_phone(connection, \"6F94879bDAfE5a6\", 5732555629)"
   ]
  },
  {
   "cell_type": "code",
   "execution_count": null,
   "id": "90593b17-15ca-4d42-b779-9244d779082b",
   "metadata": {},
   "outputs": [],
   "source": [
    "view_customer(connection, '6F94879bDAfE5a6')"
   ]
  },
  {
   "cell_type": "code",
   "execution_count": null,
   "id": "31c914fc-32c1-4c4b-926b-d54d0508139a",
   "metadata": {},
   "outputs": [],
   "source": [
    "update city----->(city)"
   ]
  },
  {
   "cell_type": "code",
   "execution_count": null,
   "id": "68d73f99-c452-44a4-8b21-fde09a9a92d1",
   "metadata": {},
   "outputs": [],
   "source": [
    "def update_customer_City(connection, CustomerID, City):\n",
    "    cursor = connection.cursor()\n",
    "    query = \"UPDATE customers SET City = %s WHERE CustomerID = %s\"\n",
    "    values = ( City, CustomerID)\n",
    "    cursor.execute(query, values)\n",
    "    connection.commit()\n",
    "    \n",
    "    if cursor.rowcount == 0:\n",
    "        print(\"No customer found with that ID.\")\n",
    "    else:\n",
    "        print(\"Customer phone number updated.\")"
   ]
  },
  {
   "cell_type": "code",
   "execution_count": null,
   "id": "a158b901-cc57-41b8-afdb-9c293309d283",
   "metadata": {},
   "outputs": [],
   "source": [
    "update_customer_City(connection,\"DD37Cf93aecA6Dc\", \"thailand\")"
   ]
  },
  {
   "cell_type": "code",
   "execution_count": null,
   "id": "c207ab93-ab99-48a8-91b8-7170419b7851",
   "metadata": {},
   "outputs": [],
   "source": [
    "update_customer_City(connection,\"2d08FB17EE273F4\", \"china\")"
   ]
  },
  {
   "cell_type": "code",
   "execution_count": null,
   "id": "be0961d8-accf-48a5-a97b-b93969d0a80d",
   "metadata": {},
   "outputs": [],
   "source": [
    "view_customer(connection, 'DD37Cf93aecA6Dc')"
   ]
  },
  {
   "cell_type": "code",
   "execution_count": null,
   "id": "6f4077f8-da2e-4750-a36a-b03b2eb47f0b",
   "metadata": {},
   "outputs": [],
   "source": [
    "view_customer(connection, '2d08FB17EE273F4')"
   ]
  }
 ],
 "metadata": {
  "kernelspec": {
   "display_name": "Python 3 (ipykernel)",
   "language": "python",
   "name": "python3"
  },
  "language_info": {
   "codemirror_mode": {
    "name": "ipython",
    "version": 3
   },
   "file_extension": ".py",
   "mimetype": "text/x-python",
   "name": "python",
   "nbconvert_exporter": "python",
   "pygments_lexer": "ipython3",
   "version": "3.12.5"
  }
 },
 "nbformat": 4,
 "nbformat_minor": 5
}
