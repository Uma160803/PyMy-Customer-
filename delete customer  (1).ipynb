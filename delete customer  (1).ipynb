{
 "cells": [
  {
   "cell_type": "code",
   "execution_count": 1,
   "id": "c0f6044c-18dc-4c64-bbf3-9f26a6b356e6",
   "metadata": {},
   "outputs": [],
   "source": [
    "import mysql.connector\n",
    "from mysql.connector import Error"
   ]
  },
  {
   "cell_type": "code",
   "execution_count": 2,
   "id": "9e92eaef-6124-4121-9763-5119ae9cca92",
   "metadata": {},
   "outputs": [
    {
     "name": "stdout",
     "output_type": "stream",
     "text": [
      "connected.\n"
     ]
    },
    {
     "data": {
      "text/plain": [
       "<mysql.connector.connection_cext.CMySQLConnection at 0x1eac14d8bf0>"
      ]
     },
     "execution_count": 2,
     "metadata": {},
     "output_type": "execute_result"
    }
   ],
   "source": [
    "def connect_to_mysql():\n",
    "    try:\n",
    "        connection = mysql.connector.connect(\n",
    "            host='localhost',       \n",
    "            user='uma',             \n",
    "            password='uma1608@', \n",
    "            database='customers'   \n",
    "        )\n",
    "        print(\"connected.\")\n",
    "        return connection\n",
    "    except Error as e:\n",
    "        print(f\"Error:{e}\")\n",
    "        return None\n",
    "\n",
    "connect_to_mysql()"
   ]
  },
  {
   "cell_type": "code",
   "execution_count": 3,
   "id": "52dad83a-4cf9-4985-a6c3-f98c201b1e95",
   "metadata": {},
   "outputs": [],
   "source": [
    "def delete_customer(connection, CustomerID):\n",
    "    cursor = connection.cursor()\n",
    "    query = \"DELETE FROM customers WHERE CustomerID = %s\"\n",
    "    cursor.execute(query, (CustomerID,))\n",
    "    connection.commit()\n",
    "    print(\"Customer deleted.\")\n"
   ]
  },
  {
   "cell_type": "code",
   "execution_count": null,
   "id": "023cf8a3-4eaf-4aeb-b4ed-f59936217527",
   "metadata": {},
   "outputs": [],
   "source": [
    "delete_customer(connection, 'CUSTkajduiwa1005')"
   ]
  },
  {
   "cell_type": "code",
   "execution_count": null,
   "id": "01e9519c-a487-449c-8356-83440a4b61de",
   "metadata": {},
   "outputs": [],
   "source": []
  },
  {
   "cell_type": "code",
   "execution_count": null,
   "id": "0fcb389f-e919-4dcf-856f-902c8003c53f",
   "metadata": {},
   "outputs": [],
   "source": []
  },
  {
   "cell_type": "code",
   "execution_count": null,
   "id": "70d9fc95-794e-4ddf-8434-186853696664",
   "metadata": {},
   "outputs": [],
   "source": []
  }
 ],
 "metadata": {
  "kernelspec": {
   "display_name": "Python 3 (ipykernel)",
   "language": "python",
   "name": "python3"
  },
  "language_info": {
   "codemirror_mode": {
    "name": "ipython",
    "version": 3
   },
   "file_extension": ".py",
   "mimetype": "text/x-python",
   "name": "python",
   "nbconvert_exporter": "python",
   "pygments_lexer": "ipython3",
   "version": "3.12.5"
  }
 },
 "nbformat": 4,
 "nbformat_minor": 5
}
