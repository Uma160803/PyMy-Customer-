{
 "cells": [
  {
   "cell_type": "code",
   "execution_count": null,
   "id": "c05d582a-5b17-4ca9-a6f0-936c35c2f045",
   "metadata": {},
   "outputs": [],
   "source": []
  }
 ],
 "metadata": {
  "kernelspec": {
   "display_name": "",
   "name": ""
  },
  "language_info": {
   "name": ""
  }
 },
 "nbformat": 4,
 "nbformat_minor": 5
}
