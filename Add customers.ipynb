{
 "cells": [
  {
   "cell_type": "code",
   "execution_count": 1,
   "id": "342b7764-3962-4bda-a4a7-9c788a3a690e",
   "metadata": {},
   "outputs": [],
   "source": [
    "import mysql.connector\n",
    "from mysql.connector import Error"
   ]
  },
  {
   "cell_type": "code",
   "execution_count": 2,
   "id": "1a842ac2-e58b-411a-a37b-210260f6bb44",
   "metadata": {},
   "outputs": [
    {
     "name": "stdout",
     "output_type": "stream",
     "text": [
      "connected.\n"
     ]
    },
    {
     "data": {
      "text/plain": [
       "<mysql.connector.connection_cext.CMySQLConnection at 0x21ef6ef9970>"
      ]
     },
     "execution_count": 2,
     "metadata": {},
     "output_type": "execute_result"
    }
   ],
   "source": [
    "def connect_to_mysql():\n",
    "    try:\n",
    "        connection = mysql.connector.connect(\n",
    "            host='localhost',       \n",
    "            user='uma',             \n",
    "            password='uma1608@', \n",
    "            database='customers'   \n",
    "        )\n",
    "        print(\"connected.\")\n",
    "        return connection\n",
    "    except Error as e:\n",
    "        print(f\"Error:{e}\")\n",
    "        return None\n",
    "\n",
    "connect_to_mysql()"
   ]
  },
  {
   "cell_type": "code",
   "execution_count": 3,
   "id": "2eefcb4f-397b-4910-94b8-e065cbdd37e7",
   "metadata": {},
   "outputs": [],
   "source": [
    "def add_customer(connection, data):\n",
    "    cursor = connection.cursor()\n",
    "    cursor.execute(\"\"\"\n",
    "        INSERT INTO customers (\n",
    "            `CustomerIndex`, CustomerID, FirstName, LastName, Company, City,\n",
    "            Country, Phone1, Phone2, Email, SubscriptionDate, Website\n",
    "        )\n",
    "        VALUES (%s, %s, %s, %s, %s, %s, %s, %s, %s, %s, %s, %s)\n",
    "    \"\"\", data)\n",
    "    connection.commit()\n",
    "    print(\"Customer added.\")"
   ]
  },
  {
   "cell_type": "code",
   "execution_count": 4,
   "id": "2cabf596-9245-475b-8305-dd57e883fa0b",
   "metadata": {},
   "outputs": [
    {
     "ename": "NameError",
     "evalue": "name 'connection' is not defined",
     "output_type": "error",
     "traceback": [
     
    "data1 = ('121', 'CUSTyaedoh1001', 'Alice', 'Johnson', 'Tech Corp', 'Mumbai', 'India',\n",
    "         '9876543210', '0123456789', 'alice@example.com', '2025-05-11', 'http://alicecorp.com')\n",
    "\n",
    "data2 = ('122', 'CUSTkahdasuodf1002', 'Bob', 'Smith', 'Global Ltd', 'Delhi', 'India',\n",
    "         '9988776655', '0112233445', 'bob@global.com', '2025-04-20', 'http://globalltd.com')\n",
    "\n",
    "data3 = ('123', 'CUSoauhdhgT1003', 'Charlie', 'Lee', 'NextGen', 'Bangalore', 'India',\n",
    "         '9001122334', '0809988776', 'charlie@nextgen.com', '2025-03-15', 'http://nextgen.com')\n",
    "\n",
    "data4 = ('124', 'CUSTkhasuid1004', 'Diana', 'Martinez', 'VisionTech', 'Chennai', 'India',\n",
    "         '9234567890', '0441234567', 'diana@vision.com', '2025-02-10', 'http://visiontech.com')\n",
    "\n",
    "data5 = ('125', 'CUSTkajduiwa1005', 'Ethan', 'Clark', 'InnoSoft', 'Hyderabad', 'India',\n",
    "         '9345678901', '0402345678', 'ethan@innosoft.com', '2025-01-05', 'http://innosoft.com')\n",
    "add_customer(connection, data1)\n",
    "add_customer(connection, data2)\n",
    "add_customer(connection, data3)\n",
    "add_customer(connection, data4)\n",
    "add_customer(connection, data5)"
   ]
  },
  {
   "cell_type": "code",
   "execution_count": null,
   "id": "fb6395c8-c97f-49fc-9582-d9cb76e40773",
   "metadata": {},
   "outputs": [],
   "source": []
  },
  {
   "cell_type": "code",
   "execution_count": null,
   "id": "b2f18dd0-c87d-4e33-8958-83f2e93fd8e2",
   "metadata": {},
   "outputs": [],
   "source": []
  },
  {
   "cell_type": "code",
   "execution_count": null,
   "id": "d1825277-3c21-4744-8451-4ac343d8ebfb",
   "metadata": {},
   "outputs": [],
   "source": []
  }
 ],
 "metadata": {
  "kernelspec": {
   "display_name": "Python 3 (ipykernel)",
   "language": "python",
   "name": "python3"
  },
  "language_info": {
   "codemirror_mode": {
    "name": "ipython",
    "version": 3
   },
   "file_extension": ".py",
   "mimetype": "text/x-python",
   "name": "python",
   "nbconvert_exporter": "python",
   "pygments_lexer": "ipython3",
   "version": "3.12.5"
  }
 },
 "nbformat": 4,
 "nbformat_minor": 5
}
